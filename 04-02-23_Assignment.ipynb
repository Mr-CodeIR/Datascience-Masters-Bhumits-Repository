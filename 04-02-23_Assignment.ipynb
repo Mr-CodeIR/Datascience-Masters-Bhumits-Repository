{
 "cells": [
  {
   "cell_type": "markdown",
   "id": "57b1c8cb-de7c-4a33-95ce-1a5b5e5637d9",
   "metadata": {},
   "source": [
    "Q1. Create a python program to sort the given list of tuples based on integer value using a\n",
    "lambda function.\n",
    "\n",
    "A-"
   ]
  },
  {
   "cell_type": "code",
   "execution_count": 7,
   "id": "25043d20-9e8f-4621-b4a6-c749e6132e44",
   "metadata": {},
   "outputs": [
    {
     "data": {
      "text/plain": [
       "[('Virat Kohli', 24936),\n",
       " ('Jack Kallis', 25534),\n",
       " ('Ricky Ponting', 27483),\n",
       " ('Sachin Tendulkar', 34357)]"
      ]
     },
     "execution_count": 7,
     "metadata": {},
     "output_type": "execute_result"
    }
   ],
   "source": [
    "list_of_greats=[('Sachin Tendulkar', 34357), ('Ricky Ponting', 27483), ('Jack Kallis', 25534), ('Virat Kohli', 24936)]\n",
    "list_of_greats.sort(key=lambda x:x[1])\n",
    "\n",
    "list_of_greats"
   ]
  },
  {
   "cell_type": "markdown",
   "id": "536091a9-4a1d-4bce-bc9d-2b258d407d64",
   "metadata": {},
   "source": [
    "Q2. Write a Python Program to find the squares of all the numbers in the given list of integers using\n",
    "lambda and map functions.\n",
    "\n",
    "[1, 2, 3, 4, 5, 6, 7, 8, 9, 10]\n",
    "\n",
    "A-\n"
   ]
  },
  {
   "cell_type": "code",
   "execution_count": 3,
   "id": "b83189d4-8760-4163-9b22-7366584efbf9",
   "metadata": {},
   "outputs": [
    {
     "name": "stdout",
     "output_type": "stream",
     "text": [
      "[1, 4, 9, 16, 25, 36, 49, 64, 81, 100]\n"
     ]
    }
   ],
   "source": [
    "numbers=[1, 2, 3, 4, 5, 6, 7, 8, 9, 10]\n",
    "sqrs=map(lambda x: x**2 , numbers)\n",
    "print(list(sqrs))"
   ]
  },
  {
   "cell_type": "markdown",
   "id": "29f23585-3d02-47d5-a29f-09e355c8e95b",
   "metadata": {},
   "source": [
    "Q3. Write a python program to convert the given list of integers into a tuple of strings. Use map and\n",
    "lambda functions\n",
    "\n",
    "A-\n"
   ]
  },
  {
   "cell_type": "code",
   "execution_count": 39,
   "id": "31a623cc-5cea-4fc7-bd9b-f7048f4d5000",
   "metadata": {},
   "outputs": [
    {
     "name": "stdout",
     "output_type": "stream",
     "text": [
      "('1', '2', '3', '4', '5', '6', '7', '8', '9', '10')\n"
     ]
    }
   ],
   "source": [
    "given_string=[1, 2, 3, 4, 5, 6, 7, 8, 9, 10]\n",
    "tup_of_string=map(lambda x:str(x),given_string)\n",
    "print(tuple(tup_of_string))"
   ]
  },
  {
   "cell_type": "markdown",
   "id": "67e4fbae-f01c-466c-9f46-482dc61655be",
   "metadata": {},
   "source": [
    "Q4. Write a python program using reduce function to compute the product of a list containing numbers\n",
    "from 1 to 25.    \n",
    "\n",
    "A-\n"
   ]
  },
  {
   "cell_type": "code",
   "execution_count": 42,
   "id": "b16208b4-c51f-44a2-9e8f-30845796cbe7",
   "metadata": {},
   "outputs": [
    {
     "data": {
      "text/plain": [
       "15511210043330985984000000"
      ]
     },
     "execution_count": 42,
     "metadata": {},
     "output_type": "execute_result"
    }
   ],
   "source": [
    "from functools import reduce\n",
    "product_of_nums=reduce(lambda x,y:x*y,[x for x in range(1,26)])\n",
    "product_of_nums"
   ]
  },
  {
   "cell_type": "markdown",
   "id": "6e3439db-e6ba-4c11-bcc9-bc134be55329",
   "metadata": {},
   "source": [
    "Q5. Write a python program to filter the numbers in a given list that are divisible by 2 and 3 using the\n",
    "filter function.\n",
    "\n",
    "[2, 3, 6, 9, 27, 60, 90, 120, 55, 46]\n",
    "\n",
    "A-\n"
   ]
  },
  {
   "cell_type": "code",
   "execution_count": 2,
   "id": "7fcbdc5a-49be-41d1-805c-9c75a53b6123",
   "metadata": {},
   "outputs": [
    {
     "name": "stdout",
     "output_type": "stream",
     "text": [
      "[6, 60, 90, 120]\n"
     ]
    }
   ],
   "source": [
    "nums=[2, 3, 6, 9, 27, 60, 90, 120, 55, 46]\n",
    "filtered_output=filter(lambda x:(x%2==0 and x%3==0),nums)\n",
    "print(list(filtered_output))"
   ]
  },
  {
   "cell_type": "markdown",
   "id": "88520326-f67b-4d0b-a1b8-f73a1677a90c",
   "metadata": {},
   "source": [
    "Q6. Write a python program to find palindromes in the given list of strings using lambda and filter\n",
    "function.\n",
    "\n",
    "['python', 'php', 'aba', 'radar', 'level']\n",
    "\n",
    "A-\n"
   ]
  },
  {
   "cell_type": "code",
   "execution_count": null,
   "id": "719a18d1-b446-442a-a133-3d1f8b41f4d5",
   "metadata": {},
   "outputs": [],
   "source": [
    "orstr=str(input())\n",
    "revstr=''\n",
    "count=len(orstr)\n",
    "while count>0:\n",
    "    revstr+=orstr[count-1]\n",
    "    count-=1\n",
    "    \n",
    "if(orstr==revstr):\n",
    "    print('palindrome')\n",
    "else:\n",
    "    print('not a palindrome')"
   ]
  },
  {
   "cell_type": "code",
   "execution_count": 1,
   "id": "49a2bb8a-df41-4828-a318-9bbf8f25e723",
   "metadata": {},
   "outputs": [
    {
     "name": "stdout",
     "output_type": "stream",
     "text": [
      "['php', 'aba', 'radar', 'level']\n"
     ]
    }
   ],
   "source": [
    "given_string=['python', 'php', 'aba', 'radar', 'level']\n",
    "filtered_output=filter(lambda x:x==x[::-1],given_string)\n",
    "print(list(filtered_output))"
   ]
  },
  {
   "cell_type": "code",
   "execution_count": null,
   "id": "2911bbbc-6b00-4945-8f71-39419d86522e",
   "metadata": {},
   "outputs": [],
   "source": []
  }
 ],
 "metadata": {
  "kernelspec": {
   "display_name": "Python 3 (ipykernel)",
   "language": "python",
   "name": "python3"
  },
  "language_info": {
   "codemirror_mode": {
    "name": "ipython",
    "version": 3
   },
   "file_extension": ".py",
   "mimetype": "text/x-python",
   "name": "python",
   "nbconvert_exporter": "python",
   "pygments_lexer": "ipython3",
   "version": "3.10.8"
  }
 },
 "nbformat": 4,
 "nbformat_minor": 5
}
