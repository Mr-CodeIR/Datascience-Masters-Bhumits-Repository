{
 "cells": [
  {
   "cell_type": "markdown",
   "id": "b7b340b3-2d25-488f-8cab-6c87ea664e6d",
   "metadata": {},
   "source": [
    "Q1, Create a vehicle class with an init method having instance variables as name_of_vehicle, max_speed\n",
    "and average_of_vehicle.\n",
    "\n",
    "A-\n"
   ]
  },
  {
   "cell_type": "code",
   "execution_count": 2,
   "id": "f0a3ea94-4450-43a9-bece-20ddd3dad9e3",
   "metadata": {},
   "outputs": [
    {
     "name": "stdout",
     "output_type": "stream",
     "text": [
      "Huracan\n",
      "325\n",
      "11.24\n"
     ]
    }
   ],
   "source": [
    "class Vehicle:\n",
    "    def __init__(self, name_of_vehicle, max_speed, average_of_vehicle):\n",
    "        self.name_of_vehicle = name_of_vehicle\n",
    "        self.max_speed = max_speed\n",
    "        self.average_of_vehicle = average_of_vehicle\n",
    "        \n",
    "car = Vehicle(\"Huracan\", 325, 11.24)\n",
    "print(car.name_of_vehicle)\n",
    "print(car.max_speed) \n",
    "print(car.average_of_vehicle)\n"
   ]
  },
  {
   "cell_type": "markdown",
   "id": "291c7e7f-377b-49ca-8824-da046fa25faf",
   "metadata": {},
   "source": [
    "Q2. Create a child class car from the vehicle class created in Que 1, which will inherit the vehicle class.\n",
    "Create a method named seating_capacity which takes capacity as an argument and returns the name of\n",
    "the vehicle and its seating capacity.\n",
    "\n",
    "A-\n"
   ]
  },
  {
   "cell_type": "code",
   "execution_count": 13,
   "id": "d01ef2f8-5e6b-4034-bd92-b0bbfc420fe1",
   "metadata": {},
   "outputs": [
    {
     "name": "stdout",
     "output_type": "stream",
     "text": [
      "Huracan\n",
      "325\n",
      "11.24\n",
      "2\n",
      "The Huracan has seating capacity of 2\n"
     ]
    }
   ],
   "source": [
    "class Car(Vehicle):\n",
    "    def __init__(self, name_of_vehicle, max_speed, average_of_vehicle, capacity):\n",
    "        super().__init__(name_of_vehicle, max_speed, average_of_vehicle)\n",
    "        self.capacity = capacity\n",
    "\n",
    "    def seating_capacity(self):\n",
    "        return \"The \" + self.name_of_vehicle + \" has seating capacity of \" + str(self.capacity)\n",
    "        \n",
    "    \n",
    "huracan = Car(\"Huracan\", 325, 11.24, 2)\n",
    "print(huracan.name_of_vehicle)\n",
    "print(huracan.max_speed)\n",
    "print(huracan.average_of_vehicle)\n",
    "print(huracan.capacity)\n",
    "print(huracan.seating_capacity())\n"
   ]
  },
  {
   "cell_type": "markdown",
   "id": "d72a955e-b7d8-4e76-9dca-d1c9eb431004",
   "metadata": {},
   "source": [
    "Q3. What is multiple inheritance? Write a python code to demonstrate multiple inheritance.\n",
    "\n",
    "A-\n",
    "\n",
    "Multiple inheritance is a feature that allows a single class to inherit attributes and behaviors from multiple parent classes.\n"
   ]
  },
  {
   "cell_type": "code",
   "execution_count": 14,
   "id": "011a01bf-0fdb-49d4-84a8-25c7f38df29f",
   "metadata": {},
   "outputs": [
    {
     "name": "stdout",
     "output_type": "stream",
     "text": [
      "Looting treasure\n",
      "Fighting with swords\n",
      "Sleeping anywhere, anytime\n"
     ]
    }
   ],
   "source": [
    "class Pirate:\n",
    "    def loot(self):\n",
    "        return \"Looting treasure\"\n",
    "\n",
    "class Swordman:\n",
    "    def fight(self):\n",
    "        return \"Fighting with swords\"\n",
    "\n",
    "class Zoro(Pirate, Swordman):\n",
    "    def sleep(self):\n",
    "        return \"Sleeping anywhere, anytime\"\n",
    "\n",
    "zoro = Zoro()\n",
    "print(zoro.loot()) \n",
    "print(zoro.fight()) \n",
    "print(zoro.sleep()) \n"
   ]
  },
  {
   "cell_type": "markdown",
   "id": "87f4947b-eaef-41de-baeb-231112d16425",
   "metadata": {},
   "source": [
    "Here we can see that Zoro class inherits from both the Pirate and Swordman classes. \n",
    "\n",
    "This means that an instance of the Zoro class has access to the attributes \n",
    "and behaviors of both the Pirate and Swordman classes. \n",
    "\n",
    "In this case, Zoro can loot treasure, fight with swords, and sleep anywhere, anytime\n"
   ]
  },
  {
   "cell_type": "markdown",
   "id": "7dc21ba1-aa12-4960-a464-34d0afa08476",
   "metadata": {},
   "source": [
    "Q4. What are getter and setter in python? Create a class and create a getter and a setter method in this\n",
    "class.\n",
    "\n",
    "A-\n",
    "\n",
    "A Getter is a method used to retrieve the value of an instance variable. \n",
    "\n",
    "A setter is a method used to change the value of an instance variable."
   ]
  },
  {
   "cell_type": "code",
   "execution_count": 15,
   "id": "44de63b4-7ec4-43e4-a1d8-321517b424b1",
   "metadata": {},
   "outputs": [
    {
     "name": "stdout",
     "output_type": "stream",
     "text": [
      "Sukuna\n",
      "10000\n",
      "King of Curses\n",
      "20000\n"
     ]
    }
   ],
   "source": [
    "class Demon:\n",
    "    def __init__(self, name, power_level):\n",
    "        self._name = name\n",
    "        self._power_level = power_level\n",
    "\n",
    "    def get_name(self):\n",
    "        return self._name\n",
    "\n",
    "    def set_name(self, name):\n",
    "        self._name = name\n",
    "\n",
    "    def get_power_level(self):\n",
    "        return self._power_level\n",
    "\n",
    "    def set_power_level(self, power_level):\n",
    "        self._power_level = power_level\n",
    "\n",
    "sukuna = Demon(\"Sukuna\", 10000)\n",
    "print(sukuna.get_name()) \n",
    "print(sukuna.get_power_level()) \n",
    "\n",
    "sukuna.set_name(\"King of Curses\")\n",
    "sukuna.set_power_level(20000)\n",
    "print(sukuna.get_name()) \n",
    "print(sukuna.get_power_level()) \n"
   ]
  },
  {
   "cell_type": "markdown",
   "id": "bba78218-71c1-42f3-adb7-ec8c03c129b6",
   "metadata": {},
   "source": [
    "Q5.What is method overriding in python? Write a python code to demonstrate method overriding.\n",
    "\n",
    "A-\n",
    "\n",
    "Method overriding is a feature that allows a subclass to provide a new implementation for a\n",
    "method that is already defined in its superclass.\n",
    "\n",
    "The new implementation \"overrides\" the behavior of the method in the superclass.\n",
    "\n"
   ]
  },
  {
   "cell_type": "code",
   "execution_count": 17,
   "id": "dd26fb22-1aeb-4ec1-be80-72df2cc606a3",
   "metadata": {},
   "outputs": [
    {
     "name": "stdout",
     "output_type": "stream",
     "text": [
      "Light Yagami wrote a name in the Death Note\n",
      "Ryuk wrote a name in the Death Note\n"
     ]
    }
   ],
   "source": [
    "class Character:\n",
    "    def write_name(self):\n",
    "        print(\"A character wrote a name in the Death Note\")\n",
    "\n",
    "class Human(Character):\n",
    "    def write_name(self):\n",
    "        print(\"Light Yagami wrote a name in the Death Note\")\n",
    "\n",
    "class Shinigami(Character):\n",
    "    def write_name(self):\n",
    "        print(\"Ryuk wrote a name in the Death Note\")\n",
    "\n",
    "light = Human()\n",
    "light.write_name() \n",
    "\n",
    "ryuk = Shinigami()\n",
    "ryuk.write_name() "
   ]
  },
  {
   "cell_type": "markdown",
   "id": "0231e3db-f2da-452f-8b25-62d831271b1e",
   "metadata": {},
   "source": [
    "The Character class has a method write_name that simply prints a message. \n",
    "\n",
    "The Human class inherits from Character, and provides its own implementation \n",
    "for the write_name method that is more specific to the character Light Yagami.\n",
    "\n",
    "The Shinigami class also inherits from Character, and provides its own implementation\n",
    "for the write_name method that is more specific to the character Ryuk. \n",
    "\n",
    "When a Human object is created and its write_name method is called, the message \"Light Yagami wrote\n",
    "a name in the Death Note\" is printed.\n",
    "\n",
    "When a Shinigami object is created and its write_name method is called, the message \"Ryuk wrote a \n",
    "name in the Death Note\" is printed.\n"
   ]
  },
  {
   "cell_type": "code",
   "execution_count": null,
   "id": "04f36fda-7c65-4a2b-b6f5-1d2626b28422",
   "metadata": {},
   "outputs": [],
   "source": []
  }
 ],
 "metadata": {
  "kernelspec": {
   "display_name": "Python 3 (ipykernel)",
   "language": "python",
   "name": "python3"
  },
  "language_info": {
   "codemirror_mode": {
    "name": "ipython",
    "version": 3
   },
   "file_extension": ".py",
   "mimetype": "text/x-python",
   "name": "python",
   "nbconvert_exporter": "python",
   "pygments_lexer": "ipython3",
   "version": "3.10.8"
  }
 },
 "nbformat": 4,
 "nbformat_minor": 5
}
