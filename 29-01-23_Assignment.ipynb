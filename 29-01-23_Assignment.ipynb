{
 "cells": [
  {
   "cell_type": "markdown",
   "id": "2f200515-23b3-4457-9cb4-59da73389c09",
   "metadata": {},
   "source": [
    "Q1-who developed python programming language?\n",
    "\n",
    "A-Guido van Rossum"
   ]
  },
  {
   "cell_type": "markdown",
   "id": "66ae0956-9f9d-4558-bce8-622a8badec56",
   "metadata": {},
   "source": [
    "Q2-which type of programming does python support?\n",
    "\n",
    "A-It supports object-oriented, structured, and functional programming."
   ]
  },
  {
   "cell_type": "markdown",
   "id": "1072abbc-0eaa-4f89-89a7-2097f3b37eb3",
   "metadata": {},
   "source": [
    "Q3-Is python case sensitive when dealing with identifiers?\n",
    "\n",
    "A-Python is case sensitive it is applicable to identifiers also."
   ]
  },
  {
   "cell_type": "markdown",
   "id": "46b018b9-3c4a-4262-91ab-65876cbcf720",
   "metadata": {},
   "source": [
    "Q4-What is correct extension of Python File?\n",
    "\n",
    "A-.py"
   ]
  },
  {
   "cell_type": "markdown",
   "id": "443063a5-f9f6-43fe-acd0-22494d98aa1f",
   "metadata": {},
   "source": [
    "Q5-Is Python code compiled or Interpreted?\n",
    "\n",
    "A-Interpreted"
   ]
  },
  {
   "cell_type": "markdown",
   "id": "32cd0282-bbd0-46bf-b7ce-e188060a52e4",
   "metadata": {},
   "source": [
    "Q6-Name a few blocks of code used to define in python language?\n",
    "\n",
    "A- In Python, indentation is done with whitespace. All statements with the same right-hand distance belong to the same code block. If a block needs to be more nested, it is indented to the right.\n",
    "\n",
    "ex-\n",
    "\n",
    " if a=True:\n",
    " \n",
    "     print(\"Hello\")\n",
    "     \n",
    "     x=int(input())\n",
    "     \n",
    " else:\n",
    " \n",
    "     print(\"invalid\")\n",
    "     \n",
    "     "
   ]
  },
  {
   "cell_type": "markdown",
   "id": "e93fe53a-95b5-487d-8a81-99563c91a89b",
   "metadata": {},
   "source": [
    "Q7-State a Character used to give single-line comments in Python?\n",
    "\n",
    "A-#"
   ]
  },
  {
   "cell_type": "markdown",
   "id": "f33b397d-223c-4761-8719-ca556b0f52ac",
   "metadata": {},
   "source": [
    "Q8-Mention functions which can help us to find  version of python that we are currently working on\n",
    "\n",
    "A- python_version() from platform library\n"
   ]
  },
  {
   "cell_type": "markdown",
   "id": "b720eab9-2171-434e-a3b6-6c08cb2e9b3a",
   "metadata": {},
   "source": [
    "Q9-Python supports the creation of anonymous functions at runtime ,using construct called \"lambda\""
   ]
  },
  {
   "cell_type": "markdown",
   "id": "3daa9fde-be96-4aeb-8c42-f10523a17fcc",
   "metadata": {},
   "source": [
    "Q10-What does pip stands for python?\n",
    "\n",
    "A-PIP is a recursive acronym for “Preferred Installer Program” or PIP Installs Packages. \n",
    "  It is a command-line utility that installs, reinstalls, or uninstalls\n",
    "  PyPI(The Python Package Index (PyPI) is a repository of software for the Python programming language)\n",
    "  packages with one simple command: pip."
   ]
  },
  {
   "cell_type": "markdown",
   "id": "6efed865-d396-4d03-9d48-888b3e05b7d3",
   "metadata": {},
   "source": [
    "Q11-Mention  a few built-in functions in python?\n",
    "\n",
    "A-bool(),bin(),int(),len(),str(),type(),input() etc."
   ]
  },
  {
   "cell_type": "markdown",
   "id": "0ec7a45e-2f62-4c1c-bba7-3f679a46c71a",
   "metadata": {},
   "source": [
    "Q12-What is the maximum possible length of an identifier in Python?\n",
    "\n",
    "A-79 characters."
   ]
  },
  {
   "cell_type": "markdown",
   "id": "0a6e3199-794d-4ea1-8536-47dd63e655da",
   "metadata": {},
   "source": [
    "Q13-What are the Benefits of using Python?\n",
    "\n",
    "A-\n",
    "1-Python is Extensible\n",
    "meaning that you can extend Python to other languages and write C#, C, C++, Java, and other programming \n",
    "languages within your Python codebase to add functionality or blend it with other software.\n",
    "\n",
    "2-Extensible Libraries support\n",
    "So You can use the large amount of libraries and can incorporate them into your code.\n",
    "\n",
    "3-Simple syntax and easy to learn.\n",
    "\n"
   ]
  },
  {
   "cell_type": "markdown",
   "id": "c7f831e3-24f7-4478-b539-eddbd86170c6",
   "metadata": {},
   "source": [
    "Q14- How is memory managed in Python?\n",
    "\n",
    "A-Memory management in Python is handled by the Python Virtual Machine (PVM). The PVM is responsible for allocating and deallocating\n",
    "memory to the various objects present in a Python program. When a Python program is executed, the PVM first creates a heap space – an area of memory\n",
    "used to store all the objects created by Python code. The PVM then allocates memory each time an object is created, either on the stack or in the heap. When an object is no longer needed, the PVM deallocates the memory associated with that object, ensuring that memory is always available \n",
    "for new objects. Python also provides a garbage collection feature to identify objects that are no longer in use and deallocate the associated\n",
    "memory. This helps to ensure that memory resources are used efficiently and that the program does not run out of memory."
   ]
  },
  {
   "cell_type": "markdown",
   "id": "06647b11-7f6f-4180-b30a-5f32f49d9e1c",
   "metadata": {},
   "source": [
    "Q15-How to install Python on Windows and set path variables?\n",
    "\n",
    "A-\n",
    "\n",
    "1-Download the Python installer from python.org.\n",
    "  \n",
    "  Once the download is complete, open the installer and follow the on-screen instructions to complete the installation.\n",
    "\n",
    "\n",
    "2-Setting the Path Variables\n",
    "\n",
    "  i-Open the Start menu and search for System or System Properties.\n",
    " \n",
    "  ii-Select the Advanced System Settings option.\n",
    " \n",
    "  iii-Go to the Advanced tab and click on the Environment Variables button.\n",
    "\n",
    "  iv-In the System Variables section, select the Path variable and click Edit.\n",
    "\n",
    "  v-Add the Python install directory to the Path variable.\n",
    "\n",
    "  vi-Click OK to confirm the changes.\n",
    "\n",
    "  vii-Restart your computer to apply the changes to the path variables.\n",
    "\n",
    "\n",
    "After completing these steps Python shuld be successfully installed and the path variables be  set up correctly.\n",
    "\n"
   ]
  },
  {
   "cell_type": "markdown",
   "id": "2110b914-890e-448e-858d-94d0b6f947f9",
   "metadata": {},
   "source": [
    "Q16-Is indentation required in python\n",
    "\n",
    "A- In other programming languages the indentation in code is for readability only, the indentation in Python is very important. Python uses indentation to indicate a block of code."
   ]
  },
  {
   "cell_type": "code",
   "execution_count": null,
   "id": "7ecd3547-e5bf-45d1-bc4f-04f038125358",
   "metadata": {},
   "outputs": [],
   "source": []
  }
 ],
 "metadata": {
  "kernelspec": {
   "display_name": "Python 3 (ipykernel)",
   "language": "python",
   "name": "python3"
  },
  "language_info": {
   "codemirror_mode": {
    "name": "ipython",
    "version": 3
   },
   "file_extension": ".py",
   "mimetype": "text/x-python",
   "name": "python",
   "nbconvert_exporter": "python",
   "pygments_lexer": "ipython3",
   "version": "3.10.8"
  }
 },
 "nbformat": 4,
 "nbformat_minor": 5
}
