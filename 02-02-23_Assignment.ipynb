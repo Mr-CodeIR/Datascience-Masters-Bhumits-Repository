{
 "cells": [
  {
   "cell_type": "markdown",
   "id": "fcad7f5e-a635-4f04-ad89-b0abc4ab0bdb",
   "metadata": {},
   "source": [
    "Q1-Explain with an example each when to use a for loop and a while loop.\n",
    "\n",
    "A-\n",
    "\n",
    "A for loop allows us to repeat a set of instructions a designated amount of times. it is used when we know exactly how many number of iterations are required\n",
    "\n",
    "\n",
    "for i in range(1, 11):\n",
    "\n",
    "    print(i)\n",
    "    \n",
    "A while loop is used when you want to repeat a block of code until a certain condition is met.\n",
    "\n",
    "For example- print the numbers from 1 to 10\n",
    "\n",
    "num = 1\n",
    "\n",
    "while num <= 10:\n",
    "\n",
    "  print(num)\n",
    "  \n",
    "  num += 1"
   ]
  },
  {
   "cell_type": "markdown",
   "id": "f58eedde-af71-4121-80fd-46d759615339",
   "metadata": {},
   "source": [
    "Q2-Write a python program to print the sum and product of the first 10 natural numbers using for\n",
    "and while loop."
   ]
  },
  {
   "cell_type": "code",
   "execution_count": 1,
   "id": "fcfe6bec-3085-46e1-a7a6-1c5dcf3a63a4",
   "metadata": {},
   "outputs": [
    {
     "name": "stdout",
     "output_type": "stream",
     "text": [
      "sum is  55 product is 3628800\n"
     ]
    }
   ],
   "source": [
    "num=1\n",
    "sum=0\n",
    "product=1\n",
    "while num<=10:\n",
    "    sum+=num\n",
    "    product*=num\n",
    "    num+=1\n",
    "print('sum is ',sum,'product is',product)"
   ]
  },
  {
   "cell_type": "markdown",
   "id": "d27dedb5-2f93-459c-9383-dcea49652453",
   "metadata": {},
   "source": [
    "Q3-Create a python program to compute the electricity bill for a household."
   ]
  },
  {
   "cell_type": "code",
   "execution_count": 1,
   "id": "f7c589ee-384b-4e66-b982-7d2249bdd3b5",
   "metadata": {},
   "outputs": [
    {
     "name": "stdin",
     "output_type": "stream",
     "text": [
      " 310\n"
     ]
    },
    {
     "name": "stdout",
     "output_type": "stream",
     "text": [
      "for units : 310  bill costs : 2250\n"
     ]
    }
   ],
   "source": [
    "units=int(input())\n",
    "bill=0.0\n",
    "if(units<=100):\n",
    "    bill=units*4.5\n",
    "elif(units<=200):\n",
    "    bill=450+(units-100)*6\n",
    "elif(units<=300):\n",
    "    bill=1050+(units-200)*10\n",
    "else:\n",
    "    bill=2050+(units-300)*20\n",
    "    \n",
    "print('for units :',units,' bill costs :',bill)"
   ]
  },
  {
   "cell_type": "markdown",
   "id": "2f88891e-5ffa-4ccc-b8a3-4f1142b7c362",
   "metadata": {},
   "source": [
    "Q4-Create a list of numbers from 1 to 100. Use for loop and while loop to calculate the cube of each\n",
    "number and if the cube of that number is divisible by 4 or 5 then append that number in a list and print\n",
    "that list."
   ]
  },
  {
   "cell_type": "code",
   "execution_count": 2,
   "id": "3244400c-06f0-41ac-a136-d20036500129",
   "metadata": {},
   "outputs": [
    {
     "data": {
      "text/plain": [
       "[64,\n",
       " 125,\n",
       " 512,\n",
       " 1000,\n",
       " 1728,\n",
       " 3375,\n",
       " 4096,\n",
       " 8000,\n",
       " 13824,\n",
       " 15625,\n",
       " 21952,\n",
       " 27000,\n",
       " 32768,\n",
       " 42875,\n",
       " 46656,\n",
       " 64000,\n",
       " 85184,\n",
       " 91125,\n",
       " 110592,\n",
       " 125000,\n",
       " 140608,\n",
       " 166375,\n",
       " 175616,\n",
       " 216000,\n",
       " 262144,\n",
       " 274625,\n",
       " 314432,\n",
       " 343000,\n",
       " 373248,\n",
       " 421875,\n",
       " 438976,\n",
       " 512000,\n",
       " 592704,\n",
       " 614125,\n",
       " 681472,\n",
       " 729000,\n",
       " 778688,\n",
       " 857375,\n",
       " 884736,\n",
       " 1000000]"
      ]
     },
     "execution_count": 2,
     "metadata": {},
     "output_type": "execute_result"
    }
   ],
   "source": [
    "list=[]\n",
    "cubes=[]\n",
    "for i in range(1,101,1):\n",
    "    list.append(i)\n",
    "for i in list:\n",
    "        if((i%100)%4==0 or (i%10==5 or i%10==0)): \n",
    "             cubes.append(i*i*i) \n",
    "        else :\n",
    "            continue     \n",
    "cubes"
   ]
  },
  {
   "cell_type": "markdown",
   "id": "980be998-42ad-4783-929f-7d5f6466ad3d",
   "metadata": {},
   "source": [
    "Q5- Write a program to filter count vowels in the below-given string."
   ]
  },
  {
   "cell_type": "code",
   "execution_count": 7,
   "id": "bccb41c8-3645-4386-99da-df953ad1bc4b",
   "metadata": {},
   "outputs": [
    {
     "name": "stdout",
     "output_type": "stream",
     "text": [
      "no of vowels encountered is  12\n"
     ]
    }
   ],
   "source": [
    "string = \"I want to become a data scientist\"\n",
    "vowels=['a','e','i','o','u']\n",
    "count=0\n",
    "for x in string:\n",
    "    if x.lower() in vowels:\n",
    "        count+=1\n",
    "print('no of vowels encountered is ',count)"
   ]
  },
  {
   "cell_type": "code",
   "execution_count": null,
   "id": "277dd3b8-d511-44b9-89a3-99807d345da5",
   "metadata": {},
   "outputs": [],
   "source": []
  },
  {
   "cell_type": "code",
   "execution_count": null,
   "id": "61fb18c0-ab29-4e01-8baa-d6523879f191",
   "metadata": {},
   "outputs": [],
   "source": []
  },
  {
   "cell_type": "code",
   "execution_count": null,
   "id": "7df98167-a6f4-481c-b8e9-4b9ddaec6e52",
   "metadata": {},
   "outputs": [],
   "source": []
  }
 ],
 "metadata": {
  "kernelspec": {
   "display_name": "Python 3 (ipykernel)",
   "language": "python",
   "name": "python3"
  },
  "language_info": {
   "codemirror_mode": {
    "name": "ipython",
    "version": 3
   },
   "file_extension": ".py",
   "mimetype": "text/x-python",
   "name": "python",
   "nbconvert_exporter": "python",
   "pygments_lexer": "ipython3",
   "version": "3.10.8"
  }
 },
 "nbformat": 4,
 "nbformat_minor": 5
}
