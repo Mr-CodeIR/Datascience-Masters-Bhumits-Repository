{
 "cells": [
  {
   "cell_type": "markdown",
   "id": "b4bf1682-917b-474e-8244-46717e754277",
   "metadata": {},
   "source": [
    "Q1. What is Abstraction in OOps? Explain with an example.\n",
    "\n",
    "A-\n",
    "Abstraction refers to the concept of hiding the implementation details of a class or method and exposing only the necessary information to the user.\n",
    "\n",
    "Ex-\n",
    "\n",
    "class Car:\n",
    "\n",
    "    def __init__(self, make, model):\n",
    "    \n",
    "        self.__make = make\n",
    "        self.__model = model\n",
    "       \n",
    "\n",
    "    def get_make(self):\n",
    "        return self.__make\n",
    "\n",
    "    def get_model(self):\n",
    "        return self.__model\n",
    "\n",
    "\n",
    "    def display_car_info(self):\n",
    "        print(f\"Make: {self.__make}\")\n",
    "        print(f\"Model: {self.__model}\")\n",
    "\n",
    "\n",
    "car = Car(\"Toyota\", \"Camry\")\n",
    "\n",
    "car.display_car_info()\n",
    "\n",
    "In this the Car class implements an abstraction for a car object by exposing only the necessary information to the user i.e.the make, model. The implementation details of how the car object is created and stored are abstracted away from the user and hidden within the class definition.\n",
    "\n"
   ]
  },
  {
   "cell_type": "markdown",
   "id": "83688d85-ad85-4b90-bd2e-e71aed895b1a",
   "metadata": {},
   "source": [
    "Q2. Differentiate between Abstraction and Encapsulation. Explain with an example.\n",
    "\n",
    "A-\n",
    "\n",
    "Abstraction refers to hiding the complexity and exposing only essential information.\n",
    "\n",
    "Encapsulation refers to bundling data and the functions that operate on that data within\n",
    "a single unit, known as an object.\n",
    "\n",
    "Example: In a bank account class, the account balance is abstracted and only the balance information\n",
    "is exposed to the user. The account number and all the methods to deposit, withdraw and manage the \n",
    "account are encapsulated within the class, hiding implementation details from the user.\n"
   ]
  },
  {
   "cell_type": "markdown",
   "id": "d97ac83f-8cc0-40a6-a4bc-dba27653c14b",
   "metadata": {},
   "source": [
    "Q3. What is abc module in python? Why is it used?\n",
    "\n",
    "A-\n",
    "\n",
    "The abc (Abstract Base Class) module in Python allows developers to define classes that cannot be instantiated\n",
    "and serve as a blueprint for other classes. An abstract base class is used to define a common interface or \n",
    "contract for a set of classes, and to ensure that subclasses implement certain methods.\n",
    "\n",
    "import abc\n",
    "\n",
    "class Shape(metaclass=abc.ABCMeta):\n",
    "\n",
    "    @abc.abstractmethod\n",
    "    def area(self):\n",
    "        pass\n",
    "\n",
    "class Circle(Shape):\n",
    "\n",
    "    def __init__(self, radius):\n",
    "        self.radius = radius\n",
    "        \n",
    "    def area(self):\n",
    "        return 3.14 * self.radius * self.radius\n",
    "\n",
    "c = Circle(5)\n",
    "\n",
    "print(c.area()) # 78.5\n",
    "\n",
    "\n",
    "In this the Shape class is defined as an abstract base class using the abc module.\n",
    "The area method is marked as an abstract method using the @abc.abstractmethod decorator, meaning\n",
    "that any class that inherits from Shape must implement this method. The Circle class inherits \n",
    "from Shape and implements the required area method, allowing an instance of Circle to be created \n",
    "and its area method to be called.\n"
   ]
  },
  {
   "cell_type": "markdown",
   "id": "7274613e-388a-4c89-ba28-cb18485fa465",
   "metadata": {},
   "source": [
    "Q4. How can we achieve data abstraction?\n",
    "\n",
    "A-\n",
    "\n",
    "Data abstraction in Python can be achieved through the use of -\n",
    "\n",
    "\n",
    "Abstract Base Classes (ABCs): Defining classes that cannot be instantiated and serve as a blueprint for other classes\n",
    "to implement a common interface.\n",
    "\n",
    "Encapsulation: Wrapping data and behavior into a single unit or object and controlling its visibility to achieve data\n",
    "abstraction.\n",
    "\n",
    "Interfaces: Defining a set of method signatures as a contract for classes to follow.\n",
    "\n",
    "Modules: Organizing code into a single unit and hiding implementation details from the external world.\n",
    "\n",
    "By controlling the visibility of data and behavior and defining a common interface across classes, \n",
    "you can achieve data abstraction and hide implementation details from the external world.\n"
   ]
  },
  {
   "cell_type": "markdown",
   "id": "ef30e633-2593-4ca9-b9a7-9196f8b884e9",
   "metadata": {},
   "source": [
    "Q5. Can we create an instance of an abstract class? Explain your answer.\n",
    "\n",
    "A-\n",
    "\n",
    "No, you cannot create an instance of an abstract class. An abstract class is a blueprint for other\n",
    "classes and is not meant to be instantiated on its own. \n",
    "\n",
    "The purpose of an abstract class is to define a common interface for a set of classes and to ensure\n",
    "that subclasses implement certain methods.\n"
   ]
  },
  {
   "cell_type": "code",
   "execution_count": null,
   "id": "571da07c-7b02-4a4b-bc28-39c61029b614",
   "metadata": {},
   "outputs": [],
   "source": []
  }
 ],
 "metadata": {
  "kernelspec": {
   "display_name": "Python 3 (ipykernel)",
   "language": "python",
   "name": "python3"
  },
  "language_info": {
   "codemirror_mode": {
    "name": "ipython",
    "version": 3
   },
   "file_extension": ".py",
   "mimetype": "text/x-python",
   "name": "python",
   "nbconvert_exporter": "python",
   "pygments_lexer": "ipython3",
   "version": "3.10.8"
  }
 },
 "nbformat": 4,
 "nbformat_minor": 5
}
