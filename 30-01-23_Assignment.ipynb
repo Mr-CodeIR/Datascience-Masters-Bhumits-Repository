{
 "cells": [
  {
   "cell_type": "code",
   "execution_count": 29,
   "id": "e16c1968-b38f-48de-80d5-5a5283c3a457",
   "metadata": {},
   "outputs": [
    {
     "name": "stdin",
     "output_type": "stream",
     "text": [
      " 10\n"
     ]
    },
    {
     "name": "stdout",
     "output_type": "stream",
     "text": [
      "D\n"
     ]
    }
   ],
   "source": [
    "#1-Program to accept Percentage and show grade\n",
    "marks=int(input())\n",
    "if(marks > 90 ):\n",
    "    print(\"A\")\n",
    "elif(marks > 80 and marks <= 90) :\n",
    "    print(\"B\")\n",
    "elif(marks >= 60 and marks <= 80) :\n",
    "    print(\"C\")\n",
    "elif(marks < 60 ):\n",
    "    print(\"D\")\n"
   ]
  },
  {
   "cell_type": "code",
   "execution_count": 30,
   "id": "24fa9d00-d72f-48d5-be1b-056432076fff",
   "metadata": {},
   "outputs": [
    {
     "name": "stdin",
     "output_type": "stream",
     "text": [
      " 50000\n"
     ]
    },
    {
     "name": "stdout",
     "output_type": "stream",
     "text": [
      "5%\n"
     ]
    }
   ],
   "source": [
    "#2-Program to accept costprice and show road tax accordingly\n",
    "costprice=int(input())\n",
    "if(costprice > 100000 ):\n",
    "    print(\"15%\")\n",
    "elif(costprice > 50000 and costprice <= 100000) :\n",
    "    print(\"10%\")\n",
    "elif( costprice <= 50000) :\n",
    "    print(\"5%\")\n"
   ]
  },
  {
   "cell_type": "code",
   "execution_count": 31,
   "id": "954766ef-dd80-4581-9b0a-bc4d774ed586",
   "metadata": {},
   "outputs": [
    {
     "name": "stdin",
     "output_type": "stream",
     "text": [
      " Delhi\n"
     ]
    },
    {
     "name": "stdout",
     "output_type": "stream",
     "text": [
      "Red Fort\n"
     ]
    }
   ],
   "source": [
    "#3-accept city from user and display monument in that city\n",
    "city=str(input())\n",
    "match city:\n",
    "    case \"Delhi\":\n",
    "         print(\"Red Fort\")\n",
    "    case \"Agra\":\n",
    "         print(\"Taj Mahal\")\n",
    "    case \"Jaipur\":\n",
    "         print(\"Jai Mahal\")"
   ]
  },
  {
   "cell_type": "markdown",
   "id": "4855da6e-8ef9-4188-a46a-b019286d94da",
   "metadata": {},
   "source": [
    "#5 why and when to use while loop in Python givea a detail description with example\n",
    "\n",
    "A-\n",
    "A while loop is used when you want to repeat a block of code until a certain condition is met.\n",
    "\n",
    "For example- print the numbers from 1 to 10\n",
    "\n",
    "num = 1\n",
    "\n",
    "while num <= 10:\n",
    "\n",
    "  print(num)\n",
    "  \n",
    "  num += 1\n",
    "\n",
    "\n",
    "while loop will run until the value of num is 10 or greater. "
   ]
  },
  {
   "cell_type": "markdown",
   "id": "eba51eae-4454-45b3-a19c-2b6fb1ee42e7",
   "metadata": {},
   "source": [
    "#6 use nested loop to print 3 different patterns in Python\n"
   ]
  },
  {
   "cell_type": "code",
   "execution_count": 16,
   "id": "633c4538-3dc7-4c07-975f-cfad7d9df648",
   "metadata": {},
   "outputs": [
    {
     "name": "stdout",
     "output_type": "stream",
     "text": [
      "\n",
      "* \n",
      "* * \n",
      "* * * \n",
      "* * * * \n",
      "* * * * * \n"
     ]
    }
   ],
   "source": [
    "rows=6\n",
    "for i in range(rows):\n",
    "    for j in range (i):\n",
    "         print('*',end=' ')\n",
    "    print('')"
   ]
  },
  {
   "cell_type": "code",
   "execution_count": 11,
   "id": "585c71ed-0521-4acd-a4ab-15434543f72d",
   "metadata": {},
   "outputs": [
    {
     "name": "stdout",
     "output_type": "stream",
     "text": [
      "\n",
      "1 \n",
      "1 2 \n",
      "1 2 3 \n",
      "1 2 3 4 \n",
      "1 2 3 4 5 \n"
     ]
    }
   ],
   "source": [
    "rows=6\n",
    "for i in range(rows):\n",
    "    for j in range (i):\n",
    "         print(j+1,end=' ')\n",
    "    print('')"
   ]
  },
  {
   "cell_type": "code",
   "execution_count": 19,
   "id": "e05562dd-599c-4bfa-9094-15fe68b3d4d9",
   "metadata": {},
   "outputs": [
    {
     "name": "stdout",
     "output_type": "stream",
     "text": [
      "* * * * * \n",
      "* * * * \n",
      "* * * \n",
      "* * \n",
      "* \n"
     ]
    }
   ],
   "source": [
    "rows=6\n",
    "for i in range(rows-1,0,-1):\n",
    "    for j in range (i):\n",
    "         print('*',end=' ')\n",
    "    print('')"
   ]
  },
  {
   "cell_type": "code",
   "execution_count": 27,
   "id": "52d80ade-980b-4f7b-9201-91161b0d7bc5",
   "metadata": {},
   "outputs": [
    {
     "name": "stdout",
     "output_type": "stream",
     "text": [
      "10\n",
      "9\n",
      "8\n",
      "7\n",
      "6\n",
      "5\n",
      "4\n",
      "3\n",
      "2\n",
      "1\n"
     ]
    }
   ],
   "source": [
    "#7 Display 10 to 1 using while loop\n",
    "num = 10\n",
    "\n",
    "while num >= 1:\n",
    "\n",
    "  print(num)\n",
    "  \n",
    "  num -=1"
   ]
  },
  {
   "cell_type": "code",
   "execution_count": 26,
   "id": "12fdba24-2339-4b40-8ae9-cb381b342bdf",
   "metadata": {},
   "outputs": [
    {
     "name": "stdout",
     "output_type": "stream",
     "text": [
      "10\n",
      "9\n",
      "8\n",
      "7\n",
      "6\n",
      "5\n",
      "4\n",
      "3\n",
      "2\n",
      "1\n"
     ]
    }
   ],
   "source": [
    "#8 Display 10 to 1 using while (done with for)loop\n",
    "for i in range(10,0,-1):\n",
    "         print(i)\n",
    "        "
   ]
  },
  {
   "cell_type": "code",
   "execution_count": null,
   "id": "1ee627ab-b491-413e-90fe-4c54129d88ed",
   "metadata": {},
   "outputs": [],
   "source": []
  }
 ],
 "metadata": {
  "kernelspec": {
   "display_name": "Python 3 (ipykernel)",
   "language": "python",
   "name": "python3"
  },
  "language_info": {
   "codemirror_mode": {
    "name": "ipython",
    "version": 3
   },
   "file_extension": ".py",
   "mimetype": "text/x-python",
   "name": "python",
   "nbconvert_exporter": "python",
   "pygments_lexer": "ipython3",
   "version": "3.10.8"
  }
 },
 "nbformat": 4,
 "nbformat_minor": 5
}
