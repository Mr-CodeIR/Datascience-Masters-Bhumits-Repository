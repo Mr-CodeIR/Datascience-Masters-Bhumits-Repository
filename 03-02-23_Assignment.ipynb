{
 "cells": [
  {
   "cell_type": "markdown",
   "id": "1c2ceaec-0a59-4778-8e4c-66174ae663c8",
   "metadata": {},
   "source": [
    "Q1. Which keyword is used to create a function? Create a function to return a list of odd numbers in the\n",
    "range of 1 to 25."
   ]
  },
  {
   "cell_type": "markdown",
   "id": "04e956de-091f-40e1-a556-befd638b5433",
   "metadata": {},
   "source": [
    "A-\n",
    "\"def\" keyword is used to create a function\n",
    "\n",
    "def functionname( parameters ):\n",
    "\n",
    "    code\n",
    "    \n",
    "    return statement\n",
    "    "
   ]
  },
  {
   "cell_type": "code",
   "execution_count": 4,
   "id": "f2abd131-d397-4a0d-97f8-29cc2ac91a99",
   "metadata": {},
   "outputs": [
    {
     "data": {
      "text/plain": [
       "[1, 3, 5, 7, 9, 11, 13, 15, 17, 19, 21, 23]"
      ]
     },
     "execution_count": 4,
     "metadata": {},
     "output_type": "execute_result"
    }
   ],
   "source": [
    "def list_of_odds():\n",
    "    list=[]\n",
    "    for i in range(1,25,2):\n",
    "        list.append(i)\n",
    "    return list\n",
    "list_of_odds()"
   ]
  },
  {
   "cell_type": "markdown",
   "id": "e20a42e1-3ae8-4847-8d92-79ea0036bdb7",
   "metadata": {},
   "source": [
    "Q2. Why *args and **kwargs is used in some functions? Create a function each for *args and **kwargs\n",
    "to demonstrate their use.\n",
    "\n",
    "\n",
    "A-\n",
    "\n",
    "We use *args and **kwargs as an argument when we are unsure about the number of arguments to pass in the functions\n",
    "\n",
    "*args allows you to do is take in more arguments than the number of formal arguments that you previously defined\n",
    " \n",
    "**kwargs in function definitions in python is used to pass a keyworded, variable-length argument list\n",
    " \n",
    "A keyword argument is where you provide a name to the variable as you pass it into the function"
   ]
  },
  {
   "cell_type": "code",
   "execution_count": 5,
   "id": "82150443-23aa-4047-8ecb-cacf8de733ae",
   "metadata": {},
   "outputs": [
    {
     "name": "stdout",
     "output_type": "stream",
     "text": [
      "30\n",
      "10\n"
     ]
    }
   ],
   "source": [
    "def var_one(*argv):\n",
    "    sum=0\n",
    "    for arg in argv:\n",
    "        sum+=arg\n",
    "    print(sum)\n",
    "var_one(10,20)\n",
    "var_one(1,2,3,4)"
   ]
  },
  {
   "cell_type": "code",
   "execution_count": 7,
   "id": "fddd06f4-8d64-4eb9-80a8-a2e60e07e1e3",
   "metadata": {},
   "outputs": [
    {
     "name": "stdout",
     "output_type": "stream",
     "text": [
      "('first', 'Geeks')\n",
      "('mid', 'for')\n",
      "('last', 'Geeks')\n",
      "('first', 'Fools')\n",
      "('second', 'Parade')\n"
     ]
    }
   ],
   "source": [
    "def var_two(**kwargs):\n",
    "    for item in kwargs.items():\n",
    "        print(item)\n",
    "\n",
    "var_two(first='Geeks', mid='for', last='Geeks')\n",
    "var_two(first='Fools',second='Parade')"
   ]
  },
  {
   "cell_type": "markdown",
   "id": "c019a288-8d1a-41bd-ae81-0af29f575709",
   "metadata": {},
   "source": [
    "Q3. What is an iterator in python? Name the method used to initialise the iterator object and the method\n",
    "used for iteration. Use these methods to print the first five elements of the given list [2, 4, 6, 8, 10, 12, 14,\n",
    "16, 18, 20]."
   ]
  },
  {
   "cell_type": "markdown",
   "id": "00f2da13-5ae2-4d58-ad8a-0828eff0748b",
   "metadata": {},
   "source": [
    "A-\n",
    "\n",
    "Iterator in Python is an object that is used to iterate over iterable objects like lists, tuples, dicts, and sets.\n",
    "\n",
    "The iterator object is initialized using the iter() method. It uses the next() method for iteration."
   ]
  },
  {
   "cell_type": "code",
   "execution_count": 12,
   "id": "6a25afcd-b1ea-44ac-8f7b-6a4d08ca7073",
   "metadata": {},
   "outputs": [
    {
     "name": "stdout",
     "output_type": "stream",
     "text": [
      "2\n",
      "4\n"
     ]
    }
   ],
   "source": [
    "list=[2, 4, 6, 8, 10, 12, 14,16, 18, 20]\n",
    "list_iter=iter(list)\n",
    "print(next(list_iter))\n",
    "print(next(list_iter))"
   ]
  },
  {
   "cell_type": "markdown",
   "id": "1e029c5a-3247-4746-99ad-7d30bee37ae6",
   "metadata": {},
   "source": [
    "Q4. What is a generator function in python? Why yield keyword is used? Give an example of a generator\n",
    "function."
   ]
  },
  {
   "cell_type": "markdown",
   "id": "3842490d-1f6a-4454-84ad-7baeee7841c0",
   "metadata": {},
   "source": [
    "A-\n",
    "\n",
    "Generator functions allow us to create an iterable object they use the keyword yield instead of return. \n",
    " Yield is used so that we can iterate through the generated object one element at a time.This helps in optimizing memory usage\n",
    " as the generator function only stores the yielded element and not the whole object."
   ]
  },
  {
   "cell_type": "code",
   "execution_count": 15,
   "id": "4a9245d1-d4be-48fb-92bd-fe4227446993",
   "metadata": {},
   "outputs": [
    {
     "name": "stdout",
     "output_type": "stream",
     "text": [
      "0\n",
      "1\n",
      "2\n",
      "3\n",
      "4\n",
      "5\n",
      "6\n",
      "7\n",
      "8\n",
      "9\n"
     ]
    }
   ],
   "source": [
    "#example\n",
    "def generator_function():\n",
    "    for i in range(10):\n",
    "        yield i\n",
    "for item in generator_function():\n",
    "    print(item)"
   ]
  },
  {
   "cell_type": "markdown",
   "id": "cd693ae1-0c91-4f63-929c-46dc17c4009e",
   "metadata": {},
   "source": [
    "Q5. Create a generator function for prime numbers less than 1000. Use the next() method to print the\n",
    "first 20 prime numbers.\n",
    "\n",
    "A-"
   ]
  },
  {
   "cell_type": "code",
   "execution_count": 88,
   "id": "5500e92d-847f-4d35-9c39-d013ffd86741",
   "metadata": {},
   "outputs": [
    {
     "name": "stdout",
     "output_type": "stream",
     "text": [
      "2\n",
      "3\n",
      "5\n",
      "7\n",
      "11\n",
      "13\n",
      "17\n",
      "19\n",
      "23\n",
      "29\n",
      "31\n",
      "37\n",
      "41\n",
      "43\n",
      "47\n",
      "53\n",
      "59\n",
      "61\n",
      "67\n",
      "71\n"
     ]
    }
   ],
   "source": [
    "def generator_function_two():\n",
    "    \n",
    "    for num in range(1, 1000):\n",
    "        flag = False\n",
    "        if num == 1:\n",
    "            continue\n",
    "        elif num > 1:\n",
    "            for i in range(2, num):\n",
    "                if (num % i) == 0:\n",
    "                    flag = True\n",
    "                    break\n",
    "        if flag:\n",
    "            continue\n",
    "        else:\n",
    "            yield num\n",
    "\n",
    "count=0\n",
    "for i in generator_function_two():\n",
    "            count+=1\n",
    "            if(count<=20):\n",
    "                       print(i)\n"
   ]
  },
  {
   "cell_type": "markdown",
   "id": "8923e150-5e32-40b6-a369-645aff7a9143",
   "metadata": {},
   "source": [
    "Q6. Write a python program to print the first 10 Fibonacci numbers using a while loop."
   ]
  },
  {
   "cell_type": "code",
   "execution_count": 3,
   "id": "04dcb75d-4fea-4742-ba64-b690ed3b515b",
   "metadata": {},
   "outputs": [
    {
     "name": "stdout",
     "output_type": "stream",
     "text": [
      "1\n",
      "1\n",
      "2\n",
      "3\n",
      "5\n",
      "8\n",
      "13\n",
      "21\n",
      "34\n",
      "55\n"
     ]
    }
   ],
   "source": [
    "def fibonacci(nums):\n",
    "    a, b = 0, 1\n",
    "    while nums > 0:\n",
    "        print(b)\n",
    "        a, b = b, a + b\n",
    "        nums -= 1\n",
    "\n",
    "fibonacci(10)"
   ]
  },
  {
   "cell_type": "markdown",
   "id": "328e28fd-0149-491f-891e-ad49370538f8",
   "metadata": {},
   "source": [
    "Q7. Write a List Comprehension to iterate through the given string: ‘pwskills’.\n",
    "Expected output: ['p', 'w', 's', 'k', 'i', 'l', 'l', 's']\n",
    "\n",
    "A-\n"
   ]
  },
  {
   "cell_type": "code",
   "execution_count": 91,
   "id": "a9270b96-70f8-4b44-84a5-3d29d3c0eec1",
   "metadata": {},
   "outputs": [
    {
     "data": {
      "text/plain": [
       "['p', 'w', 's', 'k', 'i', 'l', 'l', 's']"
      ]
     },
     "execution_count": 91,
     "metadata": {},
     "output_type": "execute_result"
    }
   ],
   "source": [
    "given_string='pwskills'\n",
    "[x for x in given_string]"
   ]
  },
  {
   "cell_type": "markdown",
   "id": "4464a868-0a10-476c-a4b4-ab3f61abac7c",
   "metadata": {},
   "source": [
    "Q8. Write a python program to check whether a given number is Palindrome or not using a while loop.\n",
    "\n",
    "A-"
   ]
  },
  {
   "cell_type": "code",
   "execution_count": 2,
   "id": "f3e8d341-7e1d-4149-8c5c-43fd97a99888",
   "metadata": {},
   "outputs": [
    {
     "name": "stdin",
     "output_type": "stream",
     "text": [
      " 1234\n"
     ]
    },
    {
     "name": "stdout",
     "output_type": "stream",
     "text": [
      "not a palindrome\n"
     ]
    }
   ],
   "source": [
    "orstr=str(input())\n",
    "revstr=''\n",
    "count=len(orstr)\n",
    "while count>0:\n",
    "    revstr+=orstr[count-1]\n",
    "    count-=1\n",
    "    \n",
    "if(orstr==revstr):\n",
    "    print('palindrome')\n",
    "else:\n",
    "    print('not a palindrome')"
   ]
  },
  {
   "cell_type": "code",
   "execution_count": 5,
   "id": "a8955150-7548-4fe8-bb50-3556cad9d100",
   "metadata": {},
   "outputs": [
    {
     "data": {
      "text/plain": [
       "[1,\n",
       " 3,\n",
       " 5,\n",
       " 7,\n",
       " 9,\n",
       " 11,\n",
       " 13,\n",
       " 15,\n",
       " 17,\n",
       " 19,\n",
       " 21,\n",
       " 23,\n",
       " 25,\n",
       " 27,\n",
       " 29,\n",
       " 31,\n",
       " 33,\n",
       " 35,\n",
       " 37,\n",
       " 39,\n",
       " 41,\n",
       " 43,\n",
       " 45,\n",
       " 47,\n",
       " 49,\n",
       " 51,\n",
       " 53,\n",
       " 55,\n",
       " 57,\n",
       " 59,\n",
       " 61,\n",
       " 63,\n",
       " 65,\n",
       " 67,\n",
       " 69,\n",
       " 71,\n",
       " 73,\n",
       " 75,\n",
       " 77,\n",
       " 79,\n",
       " 81,\n",
       " 83,\n",
       " 85,\n",
       " 87,\n",
       " 89,\n",
       " 91,\n",
       " 93,\n",
       " 95,\n",
       " 97,\n",
       " 99]"
      ]
     },
     "execution_count": 5,
     "metadata": {},
     "output_type": "execute_result"
    }
   ],
   "source": [
    "listofnums=[x for x in range(1,101,1)]\n",
    "listofodds=[x for x in listofnums if x%2!=0]\n",
    "listofodds"
   ]
  },
  {
   "cell_type": "code",
   "execution_count": null,
   "id": "95a93d90-4610-4794-a0b9-09599e1a2959",
   "metadata": {},
   "outputs": [],
   "source": []
  }
 ],
 "metadata": {
  "kernelspec": {
   "display_name": "Python 3 (ipykernel)",
   "language": "python",
   "name": "python3"
  },
  "language_info": {
   "codemirror_mode": {
    "name": "ipython",
    "version": 3
   },
   "file_extension": ".py",
   "mimetype": "text/x-python",
   "name": "python",
   "nbconvert_exporter": "python",
   "pygments_lexer": "ipython3",
   "version": "3.10.8"
  }
 },
 "nbformat": 4,
 "nbformat_minor": 5
}
