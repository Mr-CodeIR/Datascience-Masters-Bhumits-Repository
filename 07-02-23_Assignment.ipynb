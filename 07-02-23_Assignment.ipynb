{
 "cells": [
  {
   "cell_type": "markdown",
   "id": "9a17ee76-3bb5-4f66-a69c-d5c1c0302a71",
   "metadata": {},
   "source": [
    "Q1. You are writing code for a company. The requirement of the company is that you create a python\n",
    "function that will check whether the password entered by the user is correct or not. \n",
    "\n",
    "The function should take the password as input and return the string “Valid Password” if the entered \n",
    "password follows the below-given password guidelines else it should return “Invalid Password”.\n",
    "\n",
    "Note:\n",
    "\n",
    "1. The Password should contain at least two uppercase letters and at least two lowercase letters.\n",
    "2. The Password should contain at least a number and three special characters.\n",
    "3. The length of the password should be 10 characters long.\n",
    "\n",
    "A-\n"
   ]
  },
  {
   "cell_type": "code",
   "execution_count": 6,
   "id": "b165a6d4-8e92-4a06-83bd-656602700bad",
   "metadata": {},
   "outputs": [
    {
     "name": "stdin",
     "output_type": "stream",
     "text": [
      " BH@#!umit1\n"
     ]
    },
    {
     "name": "stdout",
     "output_type": "stream",
     "text": [
      "Valid Password\n"
     ]
    }
   ],
   "source": [
    "input_password=str(input())\n",
    "\n",
    "def password_check(input_password):\n",
    "            c_case=False\n",
    "            c_num_and_spchar=False\n",
    "            c_length=False\n",
    "            upper_count=0\n",
    "            lower_count=0\n",
    "            num_count=0\n",
    "            sp_char_count=0\n",
    "            s='[@_!#$%^&*()<>?/\\|}{~:]'\n",
    "            for x in input_password:\n",
    "                    if x.isupper():\n",
    "                        upper_count+=1\n",
    "                    if x.islower():\n",
    "                        lower_count+=1\n",
    "                    if x.isnumeric():\n",
    "                        num_count+=1\n",
    "                    if x in s:\n",
    "                        sp_char_count+=1\n",
    "                    \n",
    "            if upper_count>=2 and lower_count>=2:\n",
    "                             c_case=True\n",
    "            if num_count>=1 and sp_char_count==3:\n",
    "                             c_num_and_spchar=True\n",
    "            if len(input_password)==10:\n",
    "                             c_length=True\n",
    "            if c_case==True and c_num_and_spchar==True and c_length==True:\n",
    "                             print('Valid Password')\n",
    "            else:\n",
    "                             print('Invalid Password')\n",
    "\n",
    "password_check(input_password)"
   ]
  },
  {
   "cell_type": "markdown",
   "id": "3b47d651-151b-49f1-aff2-5244ec3988d7",
   "metadata": {},
   "source": [
    "Q2. Solve the below-given questions using at least one of the following:\n",
    "1. Lambda function\n",
    "2. Filter function\n",
    "3. Map function\n",
    "4. List Comprehension\n",
    "\n",
    "* Check if the string starts with a particular letter.\n",
    "* Check if the string is numeric.\n",
    "* Sort a list of tuples having fruit names and their quantity. [(\"mango\",99),(\"orange\",80), (\"grapes\", 1000)].\n",
    "* Find the squares of numbers from 1 to 10.\n",
    "* Find the cube root of numbers from 1 to 10.\n",
    "* Check if a given number is even.\n",
    "* Filter odd numbers from the given list.\n",
    "[1,2,3,4,5,6,7,8,9,10]\n",
    "* Sort a list of integers into positive and negative integers lists.\n",
    "[1,2,3,4,5,6,-1,-2,-3,-4,-5,0].\n",
    "\n",
    "A-\n"
   ]
  },
  {
   "cell_type": "code",
   "execution_count": 15,
   "id": "b4055173-f093-41a7-8c1d-590f9eaf6aee",
   "metadata": {},
   "outputs": [
    {
     "name": "stdin",
     "output_type": "stream",
     "text": [
      " l\n"
     ]
    },
    {
     "name": "stdout",
     "output_type": "stream",
     "text": [
      "Does String starts with  l  : True\n"
     ]
    }
   ],
   "source": [
    "#1\n",
    "input_letter=input()[0]\n",
    "input_string='Library'\n",
    "check_letter=lambda x:x.lower()== input_string[0].lower()\n",
    "print('Does String starts with ',input_letter,' :',check_letter(input_letter))"
   ]
  },
  {
   "cell_type": "code",
   "execution_count": 20,
   "id": "216843a0-cf89-4e6d-aec9-74e7d7c2e8b0",
   "metadata": {},
   "outputs": [
    {
     "name": "stdin",
     "output_type": "stream",
     "text": [
      " adad\n"
     ]
    },
    {
     "name": "stdout",
     "output_type": "stream",
     "text": [
      "Is String  adad numeric ? False\n"
     ]
    }
   ],
   "source": [
    "#2\n",
    "input_string=input()\n",
    "is_numeric=lambda x:x.isnumeric()\n",
    "print('Is String ',input_string,'numeric ?',is_numeric(input_string))"
   ]
  },
  {
   "cell_type": "code",
   "execution_count": 3,
   "id": "f5a929d9-ae23-41d8-8c5e-51e7f1c0c9ae",
   "metadata": {},
   "outputs": [
    {
     "name": "stdout",
     "output_type": "stream",
     "text": [
      "[[('orange', 80), ('mango', 99), ('grapes', 1000)]]\n"
     ]
    }
   ],
   "source": [
    "#3\n",
    "input_list=[(\"mango\",99),(\"orange\",80), (\"grapes\", 1000)]\n",
    "def sortlist(input_list):\n",
    "    return sorted(input_list, key=lambda x: x[1])\n",
    "\n",
    "print(list(map(sortlist, [input_list])))"
   ]
  },
  {
   "cell_type": "code",
   "execution_count": 9,
   "id": "19379a50-e15c-46d9-8058-ab52ec5fd567",
   "metadata": {},
   "outputs": [
    {
     "data": {
      "text/plain": [
       "[1, 4, 9, 16, 25, 36, 49, 64, 81, 100]"
      ]
     },
     "execution_count": 9,
     "metadata": {},
     "output_type": "execute_result"
    }
   ],
   "source": [
    "#4\n",
    "[x*x for x in range(1,11,1)]"
   ]
  },
  {
   "cell_type": "code",
   "execution_count": 10,
   "id": "a6f55a0a-e1b4-4706-b919-c03d90cbd04e",
   "metadata": {},
   "outputs": [
    {
     "data": {
      "text/plain": [
       "[1, 8, 27, 64, 125, 216, 343, 512, 729, 1000]"
      ]
     },
     "execution_count": 10,
     "metadata": {},
     "output_type": "execute_result"
    }
   ],
   "source": [
    "#5\n",
    "[x*x*x for x in range(1,11,1)]"
   ]
  },
  {
   "cell_type": "code",
   "execution_count": 2,
   "id": "4a273122-da3a-4427-9577-4b5908cf2a21",
   "metadata": {},
   "outputs": [
    {
     "name": "stdin",
     "output_type": "stream",
     "text": [
      " 23\n"
     ]
    },
    {
     "name": "stdout",
     "output_type": "stream",
     "text": [
      "Odd\n"
     ]
    }
   ],
   "source": [
    "#6\n",
    "out=lambda x: \"Even\" if x%2==0 else \"Odd\"\n",
    "\n",
    "print(out(int(input())))"
   ]
  },
  {
   "cell_type": "code",
   "execution_count": 7,
   "id": "f0143ef6-5948-48d7-af34-d5f7e09a1e43",
   "metadata": {},
   "outputs": [
    {
     "name": "stdout",
     "output_type": "stream",
     "text": [
      "[1, 3, 5, 7, 9]\n"
     ]
    }
   ],
   "source": [
    "#7\n",
    "out=list(filter(lambda x:x%2!=0,[1,2,3,4,5,6,7,8,9,10]))\n",
    "print(out)"
   ]
  },
  {
   "cell_type": "code",
   "execution_count": 2,
   "id": "f93071ec-79a4-484e-808a-505a99c9c77f",
   "metadata": {},
   "outputs": [
    {
     "name": "stdout",
     "output_type": "stream",
     "text": [
      "-ve nums [-1, -2, -3, -4, -5]\n",
      "+ve nums [0, 1, 2, 3, 4, 5, 6]\n"
     ]
    }
   ],
   "source": [
    "#8\n",
    "input_list=[1,2,3,4,5,6,-1,-2,-3,-4,-5,0]\n",
    "#print(sorted(input_list, reverse=True))\n",
    "def plus_minus(n):\n",
    "    minus=[]\n",
    "    plus=[]\n",
    "    [minus.append(x) for x in input_list if x<0]\n",
    "    [plus.append(x) for x in input_list if x>=0]\n",
    "    print('-ve nums',sorted(minus,reverse=True))\n",
    "    print('+ve nums',sorted(plus))\n",
    "plus_minus(input_list)"
   ]
  },
  {
   "cell_type": "code",
   "execution_count": null,
   "id": "d4737acc-64d3-44e4-bbcc-19ab82b03a6d",
   "metadata": {},
   "outputs": [],
   "source": []
  }
 ],
 "metadata": {
  "kernelspec": {
   "display_name": "Python 3 (ipykernel)",
   "language": "python",
   "name": "python3"
  },
  "language_info": {
   "codemirror_mode": {
    "name": "ipython",
    "version": 3
   },
   "file_extension": ".py",
   "mimetype": "text/x-python",
   "name": "python",
   "nbconvert_exporter": "python",
   "pygments_lexer": "ipython3",
   "version": "3.10.8"
  }
 },
 "nbformat": 4,
 "nbformat_minor": 5
}
