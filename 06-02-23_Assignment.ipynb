{
 "cells": [
  {
   "cell_type": "markdown",
   "id": "e113c99f-af50-4417-bef6-730021cae482",
   "metadata": {},
   "source": [
    "Q1. Create a function which will take a list as an argument and return the product of all the numbers\n",
    "after creating a flat list.\n",
    "\n",
    "Use the below-given list as an argument for your function.\n",
    "\n",
    "list1 = [1,2,3,4, [44,55,66, True], False, (34,56,78,89,34), {1,2,3,3,2,1}, {1:34, \"key2\": [55, 67, 78, 89], 4: (45,\n",
    "22, 61, 34)}, [56, 'data science'], 'Machine Learning']\n",
    "\n",
    "Note: you must extract numeric keys and values of the dictionary also.\n",
    "\n",
    "A-\n"
   ]
  },
  {
   "cell_type": "code",
   "execution_count": 56,
   "id": "5f1dea67-149e-4870-b839-c15b80a50f7a",
   "metadata": {},
   "outputs": [
    {
     "name": "stdout",
     "output_type": "stream",
     "text": [
      "flat list is :  [1, 2, 3, 4, 44, 55, 66, 34, 56, 78, 89, 34, 1, 2, 3, 1, 2, 3, 1, 34, 55, 67, 78, 89, 4, 45, 22, 61, 34, 56]\n",
      "Product : 24808271033922512873003047452672000\n"
     ]
    }
   ],
   "source": [
    "mixed_list=[1,2,3,4, [44,55,66, True], False, (34,56,78,89,34), {1,2,3,3,2,1}, {1:34, \"key2\": [55, 67, 78, 89], 4: (45,\n",
    "22, 61, 34)}, [56, 'data science'], 'Machine Learning']\n",
    "\n",
    "def ha_ha(input_list):\n",
    "                    \n",
    "                flat_list=[]\n",
    "                buffer=[]\n",
    "                prod=1\n",
    "                for x in mixed_list:\n",
    "                            if type(x)==int:\n",
    "                                        flat_list.append(x)\n",
    "                            if type(x)==list:\n",
    "                                       for y in x:\n",
    "                                            if type(y)==int:\n",
    "                                                      flat_list.append(y) \n",
    "                                            if type(y)==bool:\n",
    "                                                      continue\n",
    "                                            if type(y)==str:\n",
    "                                                      continue\n",
    "                            if type(x)==bool:\n",
    "                                        continue\n",
    "                            if type(x)==tuple:\n",
    "                                       for a in x:\n",
    "                                            if type(a)==int:\n",
    "                                                      flat_list.append(a) \n",
    "                            if type(x)==set:\n",
    "                                       for b in x:\n",
    "                                            if type(a)==int:\n",
    "                                                    flat_list.append(b)\n",
    "                                                    buffer.append(b)\n",
    "                                       \n",
    "                                       for f in buffer:\n",
    "                                             flat_list.append(f)\n",
    "                            if type(x)==dict:\n",
    "                                        for key, value in x.items():\n",
    "                                                    if type(key)==int:\n",
    "                                                            flat_list.append(key)\n",
    "                                                            if type(value)==int:\n",
    "                                                                     flat_list.append(value)\n",
    "                                                            if type(value)==list:\n",
    "                                                                     for p in value:\n",
    "                                                                          if type(p)==int:\n",
    "                                                                                   flat_list.append(p)\n",
    "                                                            if type(value)==tuple:\n",
    "                                                                     for s in value:\n",
    "                                                                          if type(s)==int:\n",
    "                                                                                   flat_list.append(s)                              \n",
    "                                                    if type(key)==str:\n",
    "                                                            if type(value)==list:\n",
    "                                                                     for z in value:\n",
    "                                                                           if type(z)==int:\n",
    "                                                                                    flat_list.append(z) \n",
    "                                                                                    \n",
    "                            if type(x)==str:\n",
    "                                        continue\n",
    "\t\t\t\t\n",
    "\t\t\t\t\n",
    "                \n",
    "                for i in flat_list:\n",
    "                     prod*=i\n",
    "                print(\"flat list is : \",flat_list)\n",
    "                print('Product :' ,prod)    \n",
    "\n",
    "ha_ha(mixed_list)"
   ]
  },
  {
   "cell_type": "markdown",
   "id": "b9524894-ab40-4b8f-a50a-b4bbf756bd3c",
   "metadata": {},
   "source": [
    "Q2. Write a python program for encrypting a message sent to you by your friend. The logic of encryption\n",
    "should be such that\n",
    "\n",
    "for a the output should be z. \n",
    "\n",
    "For b, the output should be y.\n",
    "\n",
    "For c, the output should be x respectively. \n",
    "\n",
    "Also, the whitespace should be replaced with a dollar sign. Keep the punctuation marks unchanged.\n",
    "\n",
    "\n",
    "Input Sentence: I want to become a Data Scientist.\n",
    "\n",
    "Encrypt the above input sentence using the program you just created.\n",
    "\n",
    "Note: Convert the given input sentence into lowercase before encrypting. The final output should be\n",
    "lowercase.\n",
    "\n",
    "A-\n"
   ]
  },
  {
   "cell_type": "code",
   "execution_count": 28,
   "id": "35e8cd1b-06e9-428a-a0d4-61d14ef4a01c",
   "metadata": {},
   "outputs": [
    {
     "name": "stdin",
     "output_type": "stream",
     "text": [
      " I want to become a Data Scientist.\n"
     ]
    },
    {
     "name": "stdout",
     "output_type": "stream",
     "text": [
      "r$dzmg$gl$yvxlnv$z$wzgz$hxrvmgrhg."
     ]
    }
   ],
   "source": [
    "def reciprocalString():\n",
    "    word = str(input()).lower()\n",
    "    ch = ''\n",
    "    dollar = '$'\n",
    "    for i in range(len(word)):\n",
    "            if word[i] not in ('.','?','-',':',','):\n",
    "                ch = chr(ord('z') - \n",
    "                     ord(word[i]) + ord('a'))\n",
    "                if word[i].isspace():\n",
    "                            ch = '$'\n",
    "            else:\n",
    "                ch=word[i]\n",
    "            print (ch,end='')\n",
    "\n",
    "\n",
    "reciprocalString()"
   ]
  },
  {
   "cell_type": "code",
   "execution_count": null,
   "id": "2091f0ec-2016-4d70-88ac-5db5c17e4d80",
   "metadata": {},
   "outputs": [],
   "source": []
  },
  {
   "cell_type": "code",
   "execution_count": null,
   "id": "b4b08f1d-e927-461e-9738-dc0c32f16771",
   "metadata": {},
   "outputs": [],
   "source": []
  }
 ],
 "metadata": {
  "kernelspec": {
   "display_name": "Python 3 (ipykernel)",
   "language": "python",
   "name": "python3"
  },
  "language_info": {
   "codemirror_mode": {
    "name": "ipython",
    "version": 3
   },
   "file_extension": ".py",
   "mimetype": "text/x-python",
   "name": "python",
   "nbconvert_exporter": "python",
   "pygments_lexer": "ipython3",
   "version": "3.10.8"
  }
 },
 "nbformat": 4,
 "nbformat_minor": 5
}
